{
  "cells": [
    {
      "cell_type": "markdown",
      "metadata": {
        "id": "view-in-github",
        "colab_type": "text"
      },
      "source": [
        "<a href=\"https://colab.research.google.com/github/JeanGrant/BSRV/blob/master/CafeTech%20CNN%20Model.ipynb\" target=\"_parent\"><img src=\"https://colab.research.google.com/assets/colab-badge.svg\" alt=\"Open In Colab\"/></a>"
      ]
    },
    {
      "cell_type": "code",
      "execution_count": null,
      "metadata": {
        "colab": {
          "base_uri": "https://localhost:8080/"
        },
        "id": "Oc0MtAd1n6bG",
        "outputId": "b9ed781d-d1cc-4fab-8941-70643fa440d8"
      },
      "outputs": [
        {
          "output_type": "stream",
          "name": "stdout",
          "text": [
            "Mounted at /content/drive\n"
          ]
        }
      ],
      "source": [
        "from google.colab import drive\n",
        "drive.mount('/content/drive')"
      ]
    },
    {
      "cell_type": "code",
      "execution_count": null,
      "metadata": {
        "id": "ivXPrg1ItMie"
      },
      "outputs": [],
      "source": [
        "import pandas as pd\n",
        "import numpy as np\n",
        "import matplotlib.pyplot as plt\n",
        "import tensorflow as tf\n",
        "import os, shutil\n",
        "\n",
        "from tensorflow.keras.layers import Input, Lambda, Dense, Flatten, Dropout, GlobalAveragePooling2D\n",
        "from tensorflow.keras.models import Model\n",
        "from tensorflow.keras.applications.inception_v3 import InceptionV3\n",
        "from tensorflow.keras.applications.inception_v3 import preprocess_input\n",
        "from tensorflow.keras.preprocessing.image import ImageDataGenerator\n",
        "from tensorflow.keras.callbacks import EarlyStopping, ModelCheckpoint\n"
      ]
    },
    {
      "cell_type": "code",
      "execution_count": null,
      "metadata": {
        "id": "2pqaDSBvDRx6"
      },
      "outputs": [],
      "source": [
        "main_path = '/content/drive/MyDrive/CafeTech Finalized Dataset/split_80-20/'\n",
        "train_path = main_path + '/train'\n",
        "test_path = main_path + '/test'"
      ]
    },
    {
      "cell_type": "code",
      "execution_count": null,
      "metadata": {
        "colab": {
          "base_uri": "https://localhost:8080/"
        },
        "id": "ZzDRX-1AxtXy",
        "outputId": "5f6da7bc-311b-485f-f81f-1c776c2d1077"
      },
      "outputs": [
        {
          "output_type": "stream",
          "name": "stdout",
          "text": [
            "healthy: 440\n",
            "cercospora: 440\n",
            "phoma: 440\n",
            "rust: 440\n",
            "miner: 440\n"
          ]
        }
      ],
      "source": [
        "path_files = []\n",
        "path_labels = []\n",
        "for i in range(5):\n",
        "  if i == 0:\n",
        "      current_class = 'healthy'\n",
        "  elif i == 1:\n",
        "      current_class = 'cercospora'\n",
        "  elif i == 2:\n",
        "      current_class = 'phoma'\n",
        "  elif i == 3:\n",
        "      current_class = 'rust'\n",
        "  elif i == 4:\n",
        "      current_class = 'miner'\n",
        "\n",
        "  \n",
        "  #Create a list of images per classification in the original directory\n",
        "  images = sorted(os.listdir(train_path+'/'+current_class))\n",
        "  print(current_class+': '+str(len(images)))\n",
        "\n",
        "  for j in range(len(images)):\n",
        "    path_files.append(train_path+'/'+current_class+'/'+images[j])\n",
        "    path_labels.append(current_class)\n",
        "\n",
        "training_set = 'training_set.csv'\n",
        "\n",
        "df = pd.DataFrame()\n",
        "df['labels']=[str(x) for x in path_labels]\n",
        "df['images']=[str(x) for x in path_files]\n",
        "\n",
        "df.to_csv(training_set, header=True, index=False)"
      ]
    },
    {
      "cell_type": "code",
      "execution_count": null,
      "metadata": {
        "id": "tohZ5d5lwvts"
      },
      "outputs": [],
      "source": [
        "# training_set = train_path+'/training_set.csv'\n",
        "train_data = pd.read_csv(training_set)\n",
        "X = train_data['images']\n",
        "Y = train_data['labels']"
      ]
    },
    {
      "cell_type": "code",
      "execution_count": null,
      "metadata": {
        "id": "wQnbJ3sitMii"
      },
      "outputs": [],
      "source": [
        "train_datagen = ImageDataGenerator(preprocessing_function=preprocess_input,\n",
        "                                   rotation_range=30,\n",
        "                                   horizontal_flip = True,\n",
        "                                   vertical_flip = True)\n",
        "validation_datagen = ImageDataGenerator(preprocessing_function=preprocess_input)"
      ]
    },
    {
      "cell_type": "code",
      "execution_count": null,
      "metadata": {
        "id": "68aTHxrUtMif",
        "colab": {
          "base_uri": "https://localhost:8080/"
        },
        "outputId": "a233a899-64cb-4ee5-f029-0befdd2578d8"
      },
      "outputs": [
        {
          "output_type": "stream",
          "name": "stdout",
          "text": [
            "Downloading data from https://storage.googleapis.com/tensorflow/keras-applications/inception_v3/inception_v3_weights_tf_dim_ordering_tf_kernels_notop.h5\n",
            "87916544/87910968 [==============================] - 1s 0us/step\n",
            "87924736/87910968 [==============================] - 1s 0us/step\n"
          ]
        }
      ],
      "source": [
        "inception = InceptionV3(input_shape=(224,224,3), weights='imagenet', include_top=False)\n",
        "for layer in inception.layers:\n",
        "  layer.trainable = False;"
      ]
    },
    {
      "cell_type": "code",
      "execution_count": null,
      "metadata": {
        "id": "dcIdLzPhS4pt"
      },
      "outputs": [],
      "source": [
        "from sklearn.model_selection import KFold\n",
        "num_folds = 5\n",
        "\n",
        "checkpoint_filepath = 'inception_'\n",
        "kfold = KFold(n_splits=num_folds, shuffle=True, random_state=4)"
      ]
    },
    {
      "cell_type": "code",
      "execution_count": null,
      "metadata": {
        "id": "3BfPJrYzTARt"
      },
      "outputs": [],
      "source": [
        "fold_no = 1\n",
        "all_history = []\n",
        "\n",
        "for train, test in kfold.split(X,Y):\n",
        "\n",
        "  print('Fold: ' + str(fold_no))\n",
        "\n",
        "  training_data = train_data.iloc[train]\n",
        "  validation_data = train_data.iloc[test]\n",
        "\n",
        "  training_set = train_datagen.flow_from_dataframe(training_data, directory = train_path, x_col='images', y_col='labels', \n",
        "                                                   target_size = (224, 224), batch_size = 16, class_mode = 'categorical', \n",
        "                                                   shuffle=True, validate_filenames=True)\n",
        "  \n",
        "  validation_set = validation_datagen.flow_from_dataframe(validation_data, directory = train_path, x_col='images', y_col='labels', \n",
        "                                                          target_size = (224, 224), batch_size = 16, class_mode = 'categorical', \n",
        "                                                          shuffle=False, validate_filenames=True)\n",
        "\n",
        "  x = inception.output\n",
        "  x = Flatten()(x)\n",
        "  x = Dense(256, activation='relu')(x)\n",
        "  x = Dense(128, activation='relu')(x)\n",
        "\n",
        "  predictions = Dense(5, activation='softmax')(x)\n",
        "\n",
        "  model = Model(inception.input, predictions)\n",
        "\n",
        "  keras_callbacks   = [\n",
        "        EarlyStopping(monitor='val_accuracy', patience=5, mode='max', min_delta=0.001),\n",
        "        ModelCheckpoint(filepath=checkpoint_filepath+str(fold_no)+'.h5', monitor='val_accuracy', \n",
        "                        mode='max', save_best_only=True)]\n",
        "\n",
        "  model.compile(\n",
        "    loss='categorical_crossentropy',\n",
        "    metrics=['accuracy'],\n",
        "    optimizer =  tf.optimizers.SGD(learning_rate=0.001)\n",
        "  )\n",
        "\n",
        "  history = model.fit(\n",
        "      training_set,\n",
        "      validation_data=validation_set,\n",
        "      epochs=50,\n",
        "      batch_size=16,\n",
        "      callbacks = keras_callbacks \n",
        "    )\n",
        "  \n",
        "  all_history.append(history)\n",
        "  fold_no += 1"
      ]
    },
    {
      "cell_type": "code",
      "execution_count": null,
      "metadata": {
        "id": "nL4WfGe7G8oM"
      },
      "outputs": [],
      "source": [
        "\n",
        "for i in range(5):\n",
        "\n",
        "  print('\\n\\n\\nMatlab Plot of Fold No: ' + str(i))\n",
        "\n",
        "  # plot the loss\n",
        "  plt.title('Fold ' + str(i+1) + ': Loss vs Epoch')\n",
        "  plt.plot(all_history[i].history['loss'], label='train loss')\n",
        "  plt.plot(all_history[i].history['val_loss'], label='val loss')\n",
        "  plt.legend()\n",
        "  plt.show()\n",
        "\n",
        "  # plot the accuracy\n",
        "  plt.title('Fold ' + str(i+1) + ': Accuracy vs Epoch')\n",
        "  plt.plot(all_history[i].history['accuracy'], label='train acc')\n",
        "  plt.plot(all_history[i].history['val_accuracy'], label='val acc')\n",
        "  plt.legend()\n",
        "  plt.show()\n",
        "\n"
      ]
    },
    {
      "cell_type": "code",
      "execution_count": null,
      "metadata": {
        "id": "Q6RvMl3vulbL"
      },
      "outputs": [],
      "source": [
        "from tensorflow.keras.models import load_model"
      ]
    },
    {
      "cell_type": "code",
      "execution_count": null,
      "metadata": {
        "id": "mTid8X1cWuV8"
      },
      "outputs": [],
      "source": [
        "from tensorflow.keras.preprocessing.image import ImageDataGenerator,load_img\n",
        "test_datagen = ImageDataGenerator(preprocessing_function=preprocess_input)\n",
        "test_set = test_datagen.flow_from_directory(test_path,\n",
        "                                            target_size = (224, 224),\n",
        "                                            batch_size = 20,\n",
        "                                            class_mode = 'categorical',\n",
        "                                            shuffle=False)"
      ]
    },
    {
      "cell_type": "code",
      "execution_count": null,
      "metadata": {
        "id": "NtjQWFMJj-uK"
      },
      "outputs": [],
      "source": [
        "from sklearn.metrics import classification_report, confusion_matrix\n",
        "import numpy as np\n",
        "import seaborn as sn\n",
        "import pandas as pd\n",
        "import matplotlib.pyplot as plt"
      ]
    },
    {
      "cell_type": "code",
      "execution_count": null,
      "metadata": {
        "id": "mYhrcUpyZWQu"
      },
      "outputs": [],
      "source": [
        "for i in range(5):\n",
        "  model = load_model('inception_'+str(i+1)+'.h5')\n",
        "      \n",
        "  Y_pred = model.predict(test_set)\n",
        "  y_pred = np.argmax(Y_pred, axis=1)\n",
        "      \n",
        "  print(classification_report(test_set.classes, y_pred))\n",
        "\n",
        "  data = {'y_Actual':   test_set.classes,\n",
        "            'y_Predicted':  y_pred\n",
        "            }\n",
        "\n",
        "  df = pd.DataFrame(data, columns=['y_Actual','y_Predicted'])\n",
        "  confusion_matrix = pd.crosstab(df['y_Actual'], df['y_Predicted'], rownames=['Actual'], colnames=['Predicted'], margins = True)\n",
        "\n",
        "  sn.heatmap(confusion_matrix, annot=True, fmt='g')\n",
        "  plt.show()"
      ]
    },
    {
      "cell_type": "markdown",
      "metadata": {
        "id": "ZcTWs0uAoTut"
      },
      "source": [
        "# **Pruning**"
      ]
    },
    {
      "cell_type": "code",
      "execution_count": null,
      "metadata": {
        "colab": {
          "base_uri": "https://localhost:8080/"
        },
        "id": "RMWZskQnoLKJ",
        "outputId": "a9af9cdb-613c-43eb-c64c-902fc9448d0e"
      },
      "outputs": [
        {
          "output_type": "stream",
          "name": "stdout",
          "text": [
            "\u001b[?25l\r\u001b[K     |█▌                              | 10 kB 29.3 MB/s eta 0:00:01\r\u001b[K     |███                             | 20 kB 8.5 MB/s eta 0:00:01\r\u001b[K     |████▋                           | 30 kB 7.5 MB/s eta 0:00:01\r\u001b[K     |██████▏                         | 40 kB 7.1 MB/s eta 0:00:01\r\u001b[K     |███████▊                        | 51 kB 4.1 MB/s eta 0:00:01\r\u001b[K     |█████████▎                      | 61 kB 4.3 MB/s eta 0:00:01\r\u001b[K     |██████████▊                     | 71 kB 4.5 MB/s eta 0:00:01\r\u001b[K     |████████████▎                   | 81 kB 5.1 MB/s eta 0:00:01\r\u001b[K     |█████████████▉                  | 92 kB 3.9 MB/s eta 0:00:01\r\u001b[K     |███████████████▍                | 102 kB 4.2 MB/s eta 0:00:01\r\u001b[K     |█████████████████               | 112 kB 4.2 MB/s eta 0:00:01\r\u001b[K     |██████████████████▌             | 122 kB 4.2 MB/s eta 0:00:01\r\u001b[K     |████████████████████            | 133 kB 4.2 MB/s eta 0:00:01\r\u001b[K     |█████████████████████▌          | 143 kB 4.2 MB/s eta 0:00:01\r\u001b[K     |███████████████████████         | 153 kB 4.2 MB/s eta 0:00:01\r\u001b[K     |████████████████████████▋       | 163 kB 4.2 MB/s eta 0:00:01\r\u001b[K     |██████████████████████████▏     | 174 kB 4.2 MB/s eta 0:00:01\r\u001b[K     |███████████████████████████▊    | 184 kB 4.2 MB/s eta 0:00:01\r\u001b[K     |█████████████████████████████▏  | 194 kB 4.2 MB/s eta 0:00:01\r\u001b[K     |██████████████████████████████▊ | 204 kB 4.2 MB/s eta 0:00:01\r\u001b[K     |████████████████████████████████| 213 kB 4.2 MB/s \n",
            "\u001b[?25h"
          ]
        }
      ],
      "source": [
        "pip install -q tensorflow-model-optimization"
      ]
    },
    {
      "cell_type": "code",
      "execution_count": null,
      "metadata": {
        "colab": {
          "base_uri": "https://localhost:8080/"
        },
        "id": "zByCW2-hoky4",
        "outputId": "718681c7-1f18-4001-9458-f38a5dfd5394"
      },
      "outputs": [
        {
          "output_type": "stream",
          "name": "stdout",
          "text": [
            "WARNING:tensorflow:No training configuration found in the save file, so the model was *not* compiled. Compile it manually.\n"
          ]
        }
      ],
      "source": [
        "#load best model from KFold based on confusion matrix\n",
        "model = load_model('/tmp/tmpizfwap5z_prune_constant 0.6 60endstep_3.h5')"
      ]
    },
    {
      "cell_type": "code",
      "execution_count": null,
      "metadata": {
        "id": "zINOr9mwDaG6"
      },
      "outputs": [],
      "source": [
        "Y_pred = model.predict(test_set)\n",
        "y_pred = np.argmax(Y_pred, axis=1)\n",
        "      \n",
        "print(classification_report(test_set.classes, y_pred))\n",
        "\n",
        "data = {'y_Actual':   test_set.classes,\n",
        "            'y_Predicted':  y_pred\n",
        "            }\n",
        "\n",
        "df = pd.DataFrame(data, columns=['y_Actual','y_Predicted'])\n",
        "confusion_matrix = pd.crosstab(df['y_Actual'], df['y_Predicted'], rownames=['Actual'], colnames=['Predicted'], margins = True)\n",
        "\n",
        "sn.heatmap(confusion_matrix, annot=True, fmt='g')\n",
        "plt.show()"
      ]
    },
    {
      "cell_type": "code",
      "execution_count": null,
      "metadata": {
        "id": "AIBsCACxocHO"
      },
      "outputs": [],
      "source": [
        "import tensorflow_model_optimization as tfmot\n",
        "\n",
        "fold_no = 1\n",
        "all_history = []\n",
        "\n",
        "for train, test in kfold.split(X,Y):\n",
        "\n",
        "  model = load_model('/content/drive/MyDrive/CafeTech Finalized Dataset/split_80-20/inception_3.h5')\n",
        "\n",
        "  print('Fold: ' + str(fold_no))\n",
        "\n",
        "  training_data = train_data.iloc[train]\n",
        "  validation_data = train_data.iloc[test]\n",
        "\n",
        "  training_set = train_datagen.flow_from_dataframe(training_data, directory = train_path,\n",
        "                                                 x_col='images', y_col='labels',\n",
        "                                                 target_size = (224, 224),\n",
        "                                                 batch_size = 16,\n",
        "                                                 class_mode = 'categorical',\n",
        "                                                 shuffle=True, validate_filenames=True)\n",
        "  \n",
        "  validation_set = validation_datagen.flow_from_dataframe(validation_data, directory = train_path,\n",
        "                                                 x_col='images', y_col='labels',\n",
        "                                                 target_size = (224, 224),\n",
        "                                                 batch_size = 16,\n",
        "                                                 class_mode = 'categorical',\n",
        "                                                 shuffle=False, validate_filenames=True)\n",
        "\n",
        "  # Compute end step to finish pruning after 2 epochs.\n",
        "  batch_size = 16\n",
        "  epochs = 2\n",
        "  validation_split = 0.2\n",
        "  \n",
        "  print(len(training_set.classes))\n",
        "\n",
        "  num_images = len(training_set.classes)\n",
        "  end_step = np.ceil(num_images / batch_size).astype(np.int32) * epochs\n",
        "\n",
        "  targetspars = 0.6\n",
        "  beginstep_perc = 30\n",
        "  beginstep = beginstep_perc/100\n",
        "\n",
        "  new_pruning_params = {\n",
        "        'pruning_schedule': tfmot.sparsity.keras.ConstantSparsity(target_sparsity=targetspars,\n",
        "                                                   begin_step=beginstep*end_step,\n",
        "                                                   end_step=end_step\n",
        "                                                   )}\n",
        "\n",
        "  inception_model_for_pruning = tfmot.sparsity.keras.prune_low_magnitude(model, **new_pruning_params)\n",
        "\n",
        "  # Requirement for the inception_model_for_pruning\n",
        "  import tempfile\n",
        "  logdir = '/content/pruning_logs/' + str(fold_no) + '_'\n",
        "\n",
        "  callbacks = [\n",
        "    tfmot.sparsity.keras.UpdatePruningStep(),\n",
        "    tfmot.sparsity.keras.PruningSummaries(log_dir=logdir),\n",
        "  ]\n",
        "\n",
        "  inception_model_for_pruning.compile(\n",
        "      loss='categorical_crossentropy',\n",
        "      optimizer=tf.keras.optimizers.SGD(learning_rate=0.001),\n",
        "      metrics=['accuracy'])\n",
        "\n",
        "  inception_model_for_pruning.fit(training_set,\n",
        "              validation_data = validation_set,\n",
        "              epochs = epochs,\n",
        "              callbacks=[callbacks],\n",
        "              batch_size=batch_size)\n",
        "\n",
        "  inception_model_for_export = tfmot.sparsity.keras.strip_pruning(inception_model_for_pruning)\n",
        "\n",
        "  _, inception_pruned_keras_file = tempfile.mkstemp('_prune_constant '+str(targetspars)+' '+str(beginstep_perc)+'endstep_'+str(fold_no)+'.h5')\n",
        "  tf.keras.models.save_model(inception_model_for_export, inception_pruned_keras_file, include_optimizer=False)\n",
        "  \n",
        "  all_history.append(inception_model_for_pruning)\n",
        "  fold_no += 1"
      ]
    },
    {
      "cell_type": "code",
      "execution_count": null,
      "metadata": {
        "colab": {
          "base_uri": "https://localhost:8080/"
        },
        "id": "B7J4V2gPSF9g",
        "outputId": "b13d3e29-129c-4cc0-fac4-3457c07630b0"
      },
      "outputs": [
        {
          "output_type": "stream",
          "name": "stdout",
          "text": [
            "WARNING:tensorflow:No training configuration found in the save file, so the model was *not* compiled. Compile it manually.\n"
          ]
        }
      ],
      "source": [
        "#load best model from KFold based on confusion matrix\n",
        "model = load_model('/tmp/tmpbkx4kdc9_prune_constant 0.6 30endstep_1.h5')"
      ]
    },
    {
      "cell_type": "code",
      "execution_count": null,
      "metadata": {
        "colab": {
          "base_uri": "https://localhost:8080/",
          "height": 486
        },
        "id": "SxlAayFISF9g",
        "outputId": "d6be4c2a-01e6-4585-fbda-9b9710d7da69"
      },
      "outputs": [
        {
          "output_type": "stream",
          "name": "stdout",
          "text": [
            "              precision    recall  f1-score   support\n",
            "\n",
            "           0       0.63      0.40      0.49       110\n",
            "           1       0.77      0.75      0.76       110\n",
            "           2       0.89      0.95      0.92       110\n",
            "           3       0.75      0.67      0.71       110\n",
            "           4       0.60      0.86      0.71       110\n",
            "\n",
            "    accuracy                           0.73       550\n",
            "   macro avg       0.73      0.73      0.72       550\n",
            "weighted avg       0.73      0.73      0.72       550\n",
            "\n"
          ]
        },
        {
          "output_type": "display_data",
          "data": {
            "image/png": "[encoded data removed]",
            "text/plain": [
              "<Figure size 432x288 with 2 Axes>"
            ]
          },
          "metadata": {
            "needs_background": "light"
          }
        }
      ],
      "source": [
        "Y_pred = model.predict(test_set)\n",
        "y_pred = np.argmax(Y_pred, axis=1)\n",
        "      \n",
        "print(classification_report(test_set.classes, y_pred))\n",
        "\n",
        "data = {'y_Actual':   test_set.classes,\n",
        "            'y_Predicted':  y_pred\n",
        "            }\n",
        "\n",
        "df = pd.DataFrame(data, columns=['y_Actual','y_Predicted'])\n",
        "confusion_matrix = pd.crosstab(df['y_Actual'], df['y_Predicted'], rownames=['Actual'], colnames=['Predicted'], margins = True)\n",
        "\n",
        "sn.heatmap(confusion_matrix, annot=True, fmt='g')\n",
        "plt.show()"
      ]
    },
    {
      "cell_type": "markdown",
      "metadata": {
        "id": "soxHPActoPU_"
      },
      "source": [
        "# **Conversion and Quantization**"
      ]
    },
    {
      "cell_type": "code",
      "execution_count": null,
      "metadata": {
        "id": "RenKtX20dWcb"
      },
      "outputs": [],
      "source": [
        "#load best model from KFold based on confusion matrix\n",
        "model = load_model('inception_2.h5')"
      ]
    },
    {
      "cell_type": "code",
      "execution_count": null,
      "metadata": {
        "id": "_m99OScZdp_T"
      },
      "outputs": [],
      "source": [
        "!mkdir \"tflite_models\""
      ]
    },
    {
      "cell_type": "code",
      "execution_count": null,
      "metadata": {
        "id": "2jSFOEGme9ez"
      },
      "outputs": [],
      "source": [
        "TFLITE_QUANT_MODEL = \"/content/tflite_models/inception_quant.tflite\""
      ]
    },
    {
      "cell_type": "code",
      "execution_count": null,
      "metadata": {
        "id": "HTjhx9TWfJVO"
      },
      "outputs": [],
      "source": [
        "run_model = tf.function(lambda x : model(x))\n",
        "\n",
        "concrete_func = run_model.get_concrete_function(\n",
        "    tf.TensorSpec(model.inputs[0].shape, model.inputs[0].dtype)\n",
        ")\n",
        "\n",
        "converter = tf.lite.TFLiteConverter.from_concrete_functions([concrete_func])\n",
        "converter.optimizations = [tf.lite.Optimize.DEFAULT]\n",
        "converted_tflite_quant_model = converter.convert()\n",
        "open(TFLITE_QUANT_MODEL, \"wb\").write(converted_tflite_quant_model)\n",
        "\n",
        "print(\"TFLite models and their sizes:\")\n",
        "!ls \"tflite_models\" -lh"
      ]
    }
  ],
  "metadata": {
    "accelerator": "GPU",
    "colab": {
      "collapsed_sections": [],
      "name": "Inception_V3.ipynb",
      "provenance": [],
      "include_colab_link": true
    },
    "kernelspec": {
      "display_name": "Python 3",
      "language": "python",
      "name": "python3"
    },
    "language_info": {
      "codemirror_mode": {
        "name": "ipython",
        "version": 3
      },
      "file_extension": ".py",
      "mimetype": "text/x-python",
      "name": "python",
      "nbconvert_exporter": "python",
      "pygments_lexer": "ipython3",
      "version": "3.7.7"
    }
  },
  "nbformat": 4,
  "nbformat_minor": 0
}